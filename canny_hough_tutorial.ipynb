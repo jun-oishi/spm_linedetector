{
 "cells": [
  {
   "cell_type": "code",
   "execution_count": 1,
   "metadata": {},
   "outputs": [
    {
     "name": "stdout",
     "output_type": "stream",
     "text": [
      "python version: 3.10.6 (main, May 29 2023, 11:10:38) [GCC 11.3.0]\n",
      "numpy version: 1.25.0\n",
      "opencv version: 4.8.0\n"
     ]
    }
   ],
   "source": [
    "%matplotlib inline\n",
    "import sys\n",
    "import numpy as np\n",
    "import cv2\n",
    "from IPython.display import Image, display\n",
    "from ipywidgets import widgets\n",
    "from matplotlib import pyplot as plt\n",
    "\n",
    "print(\"python version:\", sys.version)\n",
    "print(\"numpy version:\", np.__version__)\n",
    "print(\"opencv version:\", cv2.__version__) # type: ignore"
   ]
  },
  {
   "cell_type": "code",
   "execution_count": 2,
   "metadata": {},
   "outputs": [],
   "source": [
    "def imshow(img):\n",
    "    \"\"\"ndarray 配列をインラインで Notebook 上に表示する。\n",
    "    \"\"\"\n",
    "    ret, encoded = cv2.imencode(\".jpg\", img)\n",
    "    display(Image(encoded))\n",
    "\n",
    "def houghline(img, rho, theta, threshold, min_line_len, max_line_gap):\n",
    "    \"\"\"ハフ変換で直線検出を行い、結果を表示する。\n",
    "    \"\"\"\n",
    "    # グレースケールに変換する。\n",
    "    gray = cv2.cvtColor(img, cv2.COLOR_BGR2GRAY)\n",
    "    # Canny 法で2値化する。\n",
    "    edges = cv2.Canny(gray, 150, 300, L2gradient=True)\n",
    "    # ハフ変換で直線検出する。\n",
    "    lines = cv2.HoughLinesP(\n",
    "        edges,\n",
    "        rho,\n",
    "        np.radians(theta),\n",
    "        threshold,\n",
    "        minLineLength=min_line_len,\n",
    "        maxLineGap=max_line_gap,\n",
    "    )\n",
    "    # 検出した直線を描画する。\n",
    "    dst = img.copy()\n",
    "\n",
    "    if lines is not None:\n",
    "        for x1, y1, x2, y2 in lines.squeeze(axis=1):\n",
    "            cv2.line(dst, (x1, y1), (x2, y2), (0, 0, 255), 2)\n",
    "    imshow(dst)"
   ]
  },
  {
   "cell_type": "code",
   "execution_count": 3,
   "metadata": {},
   "outputs": [
    {
     "name": "stdout",
     "output_type": "stream",
     "text": [
      "img.shape= (271, 435, 3) img.dtype= uint8\n",
      "gray.shape= (271, 435) gray.dtype= uint8\n",
      "edges.shape= (271, 435) edges.dtype= uint8 edges.max= 255 edges.min= 0\n"
     ]
    },
    {
     "data": {
      "image/png": "[encoded data removed]",
      "text/plain": [
       "<IPython.core.display.Image object>"
      ]
     },
     "metadata": {},
     "output_type": "display_data"
    }
   ],
   "source": [
    "# 画像を読み込む。\n",
    "img:np.ndarray = cv2.imread(\"sample1.jpg\")\n",
    "print(\"img.shape=\", img.shape, \"img.dtype=\", img.dtype)\n",
    "\n",
    "# グレースケールに変換する。\n",
    "gray:np.ndarray = cv2.cvtColor(img, cv2.COLOR_BGR2GRAY)\n",
    "print(\"gray.shape=\", gray.shape, \"gray.dtype=\", gray.dtype)\n",
    "\n",
    "# Canny 法で2値化する。\n",
    "edges:np.ndarray = cv2.Canny(gray, 150, 300, L2gradient=True)\n",
    "print(\"edges.shape=\", edges.shape, \"edges.dtype=\", edges.dtype, \"edges.max=\", edges.max(), \"edges.min=\", edges.min())\n",
    "imshow(edges)"
   ]
  },
  {
   "cell_type": "code",
   "execution_count": 4,
   "metadata": {},
   "outputs": [
    {
     "data": {
      "application/vnd.jupyter.widget-view+json": {
       "model_id": "937a474b7e0d49459e8703baed8410c9",
       "version_major": 2,
       "version_minor": 0
      },
      "text/plain": [
       "interactive(children=(IntSlider(value=1, description='rho: ', layout=Layout(width='400px'), max=10, min=1), In…"
      ]
     },
     "execution_count": 4,
     "metadata": {},
     "output_type": "execute_result"
    }
   ],
   "source": [
    "# パラメータ「rho」を設定するスライダー\n",
    "rho_slider = widgets.IntSlider(min=1, max=10, step=1, value=1, description=\"rho: \")\n",
    "rho_slider.layout.width = \"400px\"\n",
    "\n",
    "# パラメータ「theta」を設定するスライダー\n",
    "theta_slider = widgets.IntSlider(min=1, max=180, step=1, value=1, description=\"theta: \")\n",
    "theta_slider.layout.width = \"400px\"\n",
    "\n",
    "# パラメータ「threshold」を設定するスライダー\n",
    "threshold_slider = widgets.IntSlider(\n",
    "    min=0, max=500, step=1, value=100, description=\"threshold: \"\n",
    ")\n",
    "threshold_slider.layout.width = \"400px\"\n",
    "\n",
    "# パラメータ「min_theta」「max_theta」を設定するスライダー\n",
    "theta_range_slider = widgets.IntRangeSlider(\n",
    "    value=(0, 180), min=0, max=180, step=1, description=\"theta range: \"\n",
    ")\n",
    "theta_range_slider.layout.width = \"400px\"\n",
    "\n",
    "# パラメータ「minLineLength」を設定するスライダー\n",
    "min_line_len_slider = widgets.IntSlider(\n",
    "    min=0, max=500, step=1, value=0, description=\"minLineLength: \"\n",
    ")\n",
    "min_line_len_slider.layout.width = \"400px\"\n",
    "\n",
    "# パラメータ「maxLineGap」を設定するスライダー\n",
    "max_line_gap_slider = widgets.IntSlider(\n",
    "    min=0, max=500, step=1, value=50, description=\"maxLineGap: \"\n",
    ")\n",
    "max_line_gap_slider.layout.width = \"400px\"\n",
    "\n",
    "# 画像を読み込む。\n",
    "img = cv2.resize(cv2.imread(\"data/data1/rawdata1.jpg\"), (640,640))\n",
    "\n",
    "# ウィジェットを表示する。\n",
    "widgets.interactive(\n",
    "    houghline,\n",
    "    img=widgets.fixed(img),\n",
    "    rho=rho_slider,\n",
    "    theta=theta_slider,\n",
    "    threshold=threshold_slider,\n",
    "    min_line_len=min_line_len_slider,\n",
    "    max_line_gap=max_line_gap_slider,\n",
    ")"
   ]
  },
  {
   "cell_type": "code",
   "execution_count": null,
   "metadata": {},
   "outputs": [],
   "source": []
  }
 ],
 "metadata": {
  "kernelspec": {
   "display_name": "cv_venv",
   "language": "python",
   "name": "python3"
  },
  "language_info": {
   "codemirror_mode": {
    "name": "ipython",
    "version": 3
   },
   "file_extension": ".py",
   "mimetype": "text/x-python",
   "name": "python",
   "nbconvert_exporter": "python",
   "pygments_lexer": "ipython3",
   "version": "3.10.6"
  },
  "orig_nbformat": 4
 },
 "nbformat": 4,
 "nbformat_minor": 2
}
